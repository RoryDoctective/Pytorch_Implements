{
 "cells": [
  {
   "cell_type": "markdown",
   "metadata": {},
   "source": [
    "# Intro to Pytorch"
   ]
  },
  {
   "cell_type": "code",
   "execution_count": 1,
   "metadata": {},
   "outputs": [],
   "source": [
    "import torch"
   ]
  },
  {
   "cell_type": "code",
   "execution_count": 2,
   "metadata": {},
   "outputs": [
    {
     "data": {
      "text/plain": [
       "'0.3.0.post4'"
      ]
     },
     "execution_count": 2,
     "metadata": {},
     "output_type": "execute_result"
    }
   ],
   "source": [
    "torch.__version__"
   ]
  },
  {
   "cell_type": "markdown",
   "metadata": {},
   "source": [
    "## Creating Random Tensors"
   ]
  },
  {
   "cell_type": "code",
   "execution_count": 3,
   "metadata": {},
   "outputs": [],
   "source": [
    "a = torch.Tensor(5,4)"
   ]
  },
  {
   "cell_type": "code",
   "execution_count": 4,
   "metadata": {},
   "outputs": [
    {
     "name": "stdout",
     "output_type": "stream",
     "text": [
      "\n",
      " 1.1217e-37  0.0000e+00  0.0000e+00  0.0000e+00\n",
      " 5.6999e+35  4.5748e-41  5.7351e+35  4.5748e-41\n",
      "-6.4190e+22  4.5748e-41  5.7353e+35  4.5748e-41\n",
      "-6.3792e+22  4.5748e-41  0.0000e+00  0.0000e+00\n",
      "-3.0461e+25  4.5748e-41  7.9051e+35  4.5748e-41\n",
      "[torch.FloatTensor of size 5x4]\n",
      "\n"
     ]
    }
   ],
   "source": [
    "print(a)"
   ]
  },
  {
   "cell_type": "code",
   "execution_count": 5,
   "metadata": {},
   "outputs": [
    {
     "name": "stdout",
     "output_type": "stream",
     "text": [
      "torch.Size([5, 4])\n"
     ]
    }
   ],
   "source": [
    "print(a.size())"
   ]
  },
  {
   "cell_type": "markdown",
   "metadata": {},
   "source": [
    "## Operation on Tensors"
   ]
  },
  {
   "cell_type": "code",
   "execution_count": 6,
   "metadata": {},
   "outputs": [],
   "source": [
    "x = torch.rand(5,4)"
   ]
  },
  {
   "cell_type": "code",
   "execution_count": 7,
   "metadata": {},
   "outputs": [],
   "source": [
    "y = torch.rand(5,4)"
   ]
  },
  {
   "cell_type": "code",
   "execution_count": 8,
   "metadata": {},
   "outputs": [],
   "source": [
    "z = x + y"
   ]
  },
  {
   "cell_type": "code",
   "execution_count": 9,
   "metadata": {},
   "outputs": [
    {
     "name": "stdout",
     "output_type": "stream",
     "text": [
      "(\n",
      " 0.9299  0.7502  1.8562  1.0427\n",
      " 0.7155  0.8145  0.5810  1.0094\n",
      " 0.5434  0.0858  0.8438  0.8339\n",
      " 1.0954  0.8268  1.1075  1.5604\n",
      " 0.7344  1.1719  1.3567  1.0894\n",
      "[torch.FloatTensor of size 5x4]\n",
      ", \n",
      " 0.4805  0.7308  0.8688  0.1104\n",
      " 0.3045  0.2024  0.2679  0.7696\n",
      " 0.2210  0.0409  0.6398  0.3324\n",
      " 0.0999  0.5682  0.7215  0.5840\n",
      " 0.5857  0.3794  0.4883  0.2521\n",
      "[torch.FloatTensor of size 5x4]\n",
      ", \n",
      " 0.4494  0.0194  0.9874  0.9323\n",
      " 0.4110  0.6121  0.3131  0.2399\n",
      " 0.3224  0.0449  0.2040  0.5015\n",
      " 0.9956  0.2586  0.3860  0.9764\n",
      " 0.1487  0.7924  0.8685  0.8373\n",
      "[torch.FloatTensor of size 5x4]\n",
      ")\n"
     ]
    }
   ],
   "source": [
    "print(z, x, y)"
   ]
  },
  {
   "cell_type": "code",
   "execution_count": 10,
   "metadata": {},
   "outputs": [
    {
     "name": "stdout",
     "output_type": "stream",
     "text": [
      "\n",
      " 0.9299  0.7502  1.8562  1.0427\n",
      " 0.7155  0.8145  0.5810  1.0094\n",
      " 0.5434  0.0858  0.8438  0.8339\n",
      " 1.0954  0.8268  1.1075  1.5604\n",
      " 0.7344  1.1719  1.3567  1.0894\n",
      "[torch.FloatTensor of size 5x4]\n",
      "\n"
     ]
    }
   ],
   "source": [
    "print(torch.add(x, y))"
   ]
  },
  {
   "cell_type": "code",
   "execution_count": 11,
   "metadata": {},
   "outputs": [
    {
     "data": {
      "text/plain": [
       "\n",
       " 0.9299  0.7502  1.8562  1.0427\n",
       " 0.7155  0.8145  0.5810  1.0094\n",
       " 0.5434  0.0858  0.8438  0.8339\n",
       " 1.0954  0.8268  1.1075  1.5604\n",
       " 0.7344  1.1719  1.3567  1.0894\n",
       "[torch.FloatTensor of size 5x4]"
      ]
     },
     "execution_count": 11,
     "metadata": {},
     "output_type": "execute_result"
    }
   ],
   "source": [
    "x.add_(y) #inplace"
   ]
  },
  {
   "cell_type": "code",
   "execution_count": 12,
   "metadata": {},
   "outputs": [
    {
     "name": "stdout",
     "output_type": "stream",
     "text": [
      "\n",
      " 0.9299  0.7502  1.8562  1.0427\n",
      " 0.7155  0.8145  0.5810  1.0094\n",
      " 0.5434  0.0858  0.8438  0.8339\n",
      " 1.0954  0.8268  1.1075  1.5604\n",
      " 0.7344  1.1719  1.3567  1.0894\n",
      "[torch.FloatTensor of size 5x4]\n",
      "\n"
     ]
    }
   ],
   "source": [
    "print(x) #changes x"
   ]
  },
  {
   "cell_type": "markdown",
   "metadata": {},
   "source": [
    "## Concatanation"
   ]
  },
  {
   "cell_type": "code",
   "execution_count": 43,
   "metadata": {},
   "outputs": [],
   "source": [
    "a = torch.randn(5,4)\n",
    "b = torch.randn(5,4)"
   ]
  },
  {
   "cell_type": "code",
   "execution_count": 44,
   "metadata": {},
   "outputs": [
    {
     "data": {
      "text/plain": [
       "\n",
       "-0.0169 -0.6206 -0.6142 -1.1614 -0.5674 -2.2104  1.3623 -0.9395\n",
       "-0.9981  0.1066 -0.9067 -0.4361 -0.8714 -0.0822  0.2000  0.6897\n",
       " 0.7131 -1.0092 -0.7784 -1.1326  1.1847  0.7256 -0.2710 -2.3474\n",
       " 0.1556  1.0417  0.3732 -0.8937  0.5230  0.4712  1.1064 -1.3999\n",
       "-0.5030  1.1468  1.1364  0.4138 -1.5405 -0.9749  0.7192 -0.9461\n",
       "[torch.FloatTensor of size 5x8]"
      ]
     },
     "execution_count": 44,
     "metadata": {},
     "output_type": "execute_result"
    }
   ],
   "source": [
    "torch.cat((a,b), 1)"
   ]
  },
  {
   "cell_type": "code",
   "execution_count": 15,
   "metadata": {},
   "outputs": [
    {
     "name": "stdout",
     "output_type": "stream",
     "text": [
      "\n",
      " 1.3792  0.7696  2.8435  1.9750\n",
      " 1.1265  1.4266  0.8940  1.2493\n",
      " 0.8658  0.1307  1.0478  1.3354\n",
      " 2.0910  1.0854  1.4935  2.5367\n",
      " 0.8831  1.9643  2.2252  1.9267\n",
      "[torch.FloatTensor of size 5x4]\n",
      "\n"
     ]
    }
   ],
   "source": [
    "result = torch.Tensor(5, 4)\n",
    "torch.add(x, y, out = result)\n",
    "print(result) #result different cause value of x is changed is previous step"
   ]
  },
  {
   "cell_type": "markdown",
   "metadata": {},
   "source": [
    "# Can use Numpy notations with tensors"
   ]
  },
  {
   "cell_type": "code",
   "execution_count": 16,
   "metadata": {},
   "outputs": [
    {
     "data": {
      "text/plain": [
       "\n",
       " 2.8435\n",
       " 0.8940\n",
       " 1.0478\n",
       " 1.4935\n",
       " 2.2252\n",
       "[torch.FloatTensor of size 5]"
      ]
     },
     "execution_count": 16,
     "metadata": {},
     "output_type": "execute_result"
    }
   ],
   "source": [
    "result[:,2] #3rd column"
   ]
  },
  {
   "cell_type": "code",
   "execution_count": 17,
   "metadata": {},
   "outputs": [
    {
     "data": {
      "text/plain": [
       "\n",
       " 0.8658\n",
       " 0.1307\n",
       " 1.0478\n",
       " 1.3354\n",
       "[torch.FloatTensor of size 4]"
      ]
     },
     "execution_count": 17,
     "metadata": {},
     "output_type": "execute_result"
    }
   ],
   "source": [
    "result[2,:] # 3rd row"
   ]
  },
  {
   "cell_type": "markdown",
   "metadata": {},
   "source": [
    "### To resize you can use `view` command"
   ]
  },
  {
   "cell_type": "code",
   "execution_count": 18,
   "metadata": {},
   "outputs": [
    {
     "name": "stdout",
     "output_type": "stream",
     "text": [
      "(torch.Size([4, 4]), torch.Size([1, 16]), torch.Size([2, 8]))\n"
     ]
    }
   ],
   "source": [
    "x = torch.rand(4,4)\n",
    "y = x.view(-1,16)\n",
    "z = x.view(-1, 8)\n",
    "print(x.size(), y.size(), z.size())"
   ]
  },
  {
   "cell_type": "markdown",
   "metadata": {},
   "source": [
    "## Numpy bridge"
   ]
  },
  {
   "cell_type": "code",
   "execution_count": 19,
   "metadata": {},
   "outputs": [
    {
     "name": "stdout",
     "output_type": "stream",
     "text": [
      "\n",
      " 1  1  1  1\n",
      " 1  1  1  1\n",
      " 1  1  1  1\n",
      " 1  1  1  1\n",
      " 1  1  1  1\n",
      "[torch.FloatTensor of size 5x4]\n",
      "\n"
     ]
    }
   ],
   "source": [
    "a = torch.ones(5,4)\n",
    "print(a)"
   ]
  },
  {
   "cell_type": "code",
   "execution_count": 20,
   "metadata": {},
   "outputs": [
    {
     "data": {
      "text/plain": [
       "array([[ 1.,  1.,  1.,  1.],\n",
       "       [ 1.,  1.,  1.,  1.],\n",
       "       [ 1.,  1.,  1.,  1.],\n",
       "       [ 1.,  1.,  1.,  1.],\n",
       "       [ 1.,  1.,  1.,  1.]], dtype=float32)"
      ]
     },
     "execution_count": 20,
     "metadata": {},
     "output_type": "execute_result"
    }
   ],
   "source": [
    "a.numpy()"
   ]
  },
  {
   "cell_type": "code",
   "execution_count": 21,
   "metadata": {},
   "outputs": [],
   "source": [
    "b = a.numpy()"
   ]
  },
  {
   "cell_type": "code",
   "execution_count": 22,
   "metadata": {},
   "outputs": [],
   "source": [
    "b = b.reshape(4,-1)"
   ]
  },
  {
   "cell_type": "markdown",
   "metadata": {},
   "source": [
    "Can do all sort of numpy operation on this matrix and can convert it to `torch.Tensor` again"
   ]
  },
  {
   "cell_type": "code",
   "execution_count": 23,
   "metadata": {},
   "outputs": [
    {
     "name": "stdout",
     "output_type": "stream",
     "text": [
      "\n",
      " 1  1  1  1  1\n",
      " 1  1  1  1  1\n",
      " 1  1  1  1  1\n",
      " 1  1  1  1  1\n",
      "[torch.FloatTensor of size 4x5]\n",
      "\n"
     ]
    }
   ],
   "source": [
    "c = torch.from_numpy(b)\n",
    "print(c)"
   ]
  },
  {
   "cell_type": "code",
   "execution_count": 24,
   "metadata": {},
   "outputs": [
    {
     "name": "stdout",
     "output_type": "stream",
     "text": [
      "\n",
      " 0.5525  0.7004  0.2801  0.8784\n",
      " 0.3819  0.7051  0.7673  0.8333\n",
      " 0.5593  0.7236  0.5337  0.7305\n",
      "[torch.DoubleTensor of size 3x4]\n",
      "\n"
     ]
    }
   ],
   "source": [
    "import numpy as np\n",
    "a = np.random.rand(3,4)\n",
    "b = torch.from_numpy(a)\n",
    "print(b)"
   ]
  },
  {
   "cell_type": "markdown",
   "metadata": {},
   "source": [
    "# Running Cuda Tensors(GPU)"
   ]
  },
  {
   "cell_type": "code",
   "execution_count": 25,
   "metadata": {},
   "outputs": [
    {
     "name": "stdout",
     "output_type": "stream",
     "text": [
      "\n",
      " 0.0425  0.6852  1.4239  0.1016\n",
      " 1.5002  0.7611  1.4199  1.9989\n",
      " 1.7451  0.9238  1.9126  1.9428\n",
      " 1.9271  1.2595  1.2736  0.1070\n",
      "[torch.cuda.FloatTensor of size 4x4 (GPU 0)]\n",
      "\n"
     ]
    },
    {
     "name": "stderr",
     "output_type": "stream",
     "text": [
      "/home/prakhar/Desktop/deeplearning/venv/local/lib/python2.7/site-packages/torch/tensor.py:293: UserWarning: self and other not broadcastable, but have the same number of elements.  Falling back to deprecated pointwise behavior.\n",
      "  return self.add(other)\n"
     ]
    }
   ],
   "source": [
    "if torch.cuda.is_available():\n",
    "    x = x.cuda()\n",
    "    y = y.cuda()\n",
    "    print(x + y)"
   ]
  },
  {
   "cell_type": "markdown",
   "metadata": {},
   "source": [
    "# Autograd Mechanism {Heart of Pytorch}"
   ]
  },
  {
   "cell_type": "code",
   "execution_count": 26,
   "metadata": {},
   "outputs": [],
   "source": [
    "from torch.autograd import Variable"
   ]
  },
  {
   "cell_type": "code",
   "execution_count": 27,
   "metadata": {},
   "outputs": [
    {
     "name": "stdout",
     "output_type": "stream",
     "text": [
      "Variable containing:\n",
      " 1  1  1  1\n",
      " 1  1  1  1\n",
      " 1  1  1  1\n",
      " 1  1  1  1\n",
      " 1  1  1  1\n",
      "[torch.FloatTensor of size 5x4]\n",
      "\n"
     ]
    }
   ],
   "source": [
    "x =  Variable(torch.ones(5,4), requires_grad = True)\n",
    "print(x)"
   ]
  },
  {
   "cell_type": "code",
   "execution_count": 28,
   "metadata": {},
   "outputs": [
    {
     "name": "stdout",
     "output_type": "stream",
     "text": [
      "Variable containing:\n",
      " 6  6  6  6\n",
      " 6  6  6  6\n",
      " 6  6  6  6\n",
      " 6  6  6  6\n",
      " 6  6  6  6\n",
      "[torch.FloatTensor of size 5x4]\n",
      "\n"
     ]
    }
   ],
   "source": [
    "y = x + 5\n",
    "print(y)"
   ]
  },
  {
   "cell_type": "code",
   "execution_count": 29,
   "metadata": {},
   "outputs": [
    {
     "name": "stdout",
     "output_type": "stream",
     "text": [
      "<AddBackward0 object at 0x7f877adc8e10>\n"
     ]
    }
   ],
   "source": [
    "print(y.grad_fn)"
   ]
  },
  {
   "cell_type": "code",
   "execution_count": 30,
   "metadata": {},
   "outputs": [
    {
     "name": "stdout",
     "output_type": "stream",
     "text": [
      "(Variable containing:\n",
      " 180  180  180  180\n",
      " 180  180  180  180\n",
      " 180  180  180  180\n",
      " 180  180  180  180\n",
      " 180  180  180  180\n",
      "[torch.FloatTensor of size 5x4]\n",
      ", Variable containing:\n",
      " 180\n",
      "[torch.FloatTensor of size 1]\n",
      ")\n"
     ]
    }
   ],
   "source": [
    "z = y * y * 5\n",
    "out = z.mean()\n",
    "print(z, out)"
   ]
  },
  {
   "cell_type": "markdown",
   "metadata": {},
   "source": [
    "## taking gradient"
   ]
  },
  {
   "cell_type": "code",
   "execution_count": 31,
   "metadata": {},
   "outputs": [],
   "source": [
    "out.backward() # evaluates backpass and puts the grad to the initital variables that required grads"
   ]
  },
  {
   "cell_type": "code",
   "execution_count": 32,
   "metadata": {},
   "outputs": [
    {
     "name": "stdout",
     "output_type": "stream",
     "text": [
      "Variable containing:\n",
      " 3  3  3  3\n",
      " 3  3  3  3\n",
      " 3  3  3  3\n",
      " 3  3  3  3\n",
      " 3  3  3  3\n",
      "[torch.FloatTensor of size 5x4]\n",
      "\n"
     ]
    }
   ],
   "source": [
    "print(x.grad)"
   ]
  },
  {
   "cell_type": "markdown",
   "metadata": {},
   "source": [
    "How it came to be 3?\n",
    "\n",
    "let's see `out` = 1\\4 `z`\n",
    "`z` = (x + 5)^2 \n",
    "\n",
    "numerical differentiaiton by hand makes it crystal clear\n",
    "\n",
    "### some activities with autograd"
   ]
  },
  {
   "cell_type": "code",
   "execution_count": 33,
   "metadata": {},
   "outputs": [
    {
     "name": "stdout",
     "output_type": "stream",
     "text": [
      "1653.60823726\n",
      "Variable containing:\n",
      " -495.5790   459.9430\n",
      "-1431.7517   476.8240\n",
      "[torch.FloatTensor of size 2x2]\n",
      "\n",
      "Variable containing:\n",
      " 127.5933  270.1607\n",
      "  22.3126   38.6831\n",
      "[torch.FloatTensor of size 2x2]\n",
      "\n",
      "CPU times: user 0 ns, sys: 0 ns, total: 0 ns\n",
      "Wall time: 32.9 ms\n"
     ]
    }
   ],
   "source": [
    "%%time\n",
    "x =  torch.randn(2,2)\n",
    "x = Variable(x, requires_grad = True)\n",
    "\n",
    "y = x * 2\n",
    "while y.data.norm() < 1000:\n",
    "    y = y * 2\n",
    "    \n",
    "print(y.data.norm())\n",
    "print(y)\n",
    "gradients = torch.FloatTensor(torch.rand(2, 2))\n",
    "y.backward(gradients)\n",
    "\n",
    "print(x.grad)"
   ]
  },
  {
   "cell_type": "markdown",
   "metadata": {},
   "source": [
    "More on autograd mechanism [here](http://pytorch.org/tutorials/beginner/nlp/pytorch_tutorial.html#computation-graphs-and-automatic-differentiation) and [here](http://pytorch.org/docs/master/autograd.html)."
   ]
  }
 ],
 "metadata": {
  "kernelspec": {
   "display_name": "deeplearning",
   "language": "python",
   "name": "deeplearning"
  },
  "language_info": {
   "codemirror_mode": {
    "name": "ipython",
    "version": 2
   },
   "file_extension": ".py",
   "mimetype": "text/x-python",
   "name": "python",
   "nbconvert_exporter": "python",
   "pygments_lexer": "ipython2",
   "version": "2.7.12"
  }
 },
 "nbformat": 4,
 "nbformat_minor": 2
}
