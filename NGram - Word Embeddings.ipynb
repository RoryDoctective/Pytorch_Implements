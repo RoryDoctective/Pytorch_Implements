{
 "cells": [
  {
   "cell_type": "markdown",
   "metadata": {},
   "source": [
    "## N-Gram Language Modelling\n",
    "\n",
    "Similar to how we defined a unique index for each word when making one-hot vectors, we also need to define an index for each word when using embeddings. These will be keys into a lookup table. That is, embeddings are stored as a |V|×D matrix, where D is the dimensionality of the embeddings, such that the word assigned index i has its embedding stored in the i‘th row of the matrix. In all of my code, the mapping from words to indices is a dictionary named word_to_ix.\n",
    "\n",
    "The module that allows you to use embeddings is torch.nn.Embedding, which takes two arguments: the vocabulary size, and the dimensionality of the embeddings.\n",
    "\n",
    "\n",
    "Recall that in an n-gram language model, given a sequence of words w, we want to compute\n",
    "\n",
    "                                            P(wi|wi−1,wi−2,…,wi−n+1)\n",
    "Where wi is the ith word of the sequence.\n",
    "\n",
    "    "
   ]
  },
  {
   "cell_type": "code",
   "execution_count": 1,
   "metadata": {},
   "outputs": [
    {
     "name": "stdout",
     "output_type": "stream",
     "text": [
      "[(['When', 'forty'], 'winters'), (['forty', 'winters'], 'shall'), (['winters', 'shall'], 'besiege')]\n",
      "{'all': 0, 'brow,': 1, 'being': 2, 'couldst': 3, 'treasure': 4, 'Proving': 5, 'to': 6, 'field,': 7, 'worth': 8, 'his': 9, 'thine!': 10, 'lies,': 11, 'Where': 12, 'dig': 13, 'succession': 14, 'small': 15, 'praise.': 16, 'where': 17, 'old': 18, 'fair': 19, 'see': 20, 'Thy': 21, \"deserv'd\": 22, 'sum': 23, 'shall': 24, 'forty': 25, 'new': 26, 'be': 27, 'asked,': 28, 'days;': 29, 'This': 30, 'Were': 31, 'say,': 32, \"feel'st\": 45, 'on': 34, 'thou': 35, 'of': 36, 'thine': 37, 'own': 38, 'gazed': 39, 'within': 40, 'When': 41, 'art': 42, 'now,': 43, 'trenches': 44, 'by': 33, 'much': 46, 'more': 47, 'held:': 48, 'count,': 49, 'mine': 67, 'warm': 51, 'deep': 68, 'child': 53, 'livery': 69, \"youth's\": 55, 'And': 56, 'made': 57, 'To': 70, \"'This\": 59, 'praise': 60, 'were': 61, 'eyes,': 62, 'my': 63, 'old,': 64, 'and': 65, 'use,': 66, 'it': 50, \"beauty's\": 52, 'an': 54, 'How': 58, 'shame,': 71, 'in': 72, 'Then': 73, 'all-eating': 74, 'sunken': 75, 'Shall': 76, 'make': 77, 'when': 78, 'thriftless': 79, 'answer': 80, 'lusty': 81, 'beauty': 82, 'besiege': 83, 'weed': 84, 'Will': 85, \"excuse,'\": 86, 'blood': 87, 'winters': 88, 'a': 89, 'thy': 90, 'proud': 91, 'cold.': 92, \"totter'd\": 93, 'so': 94, 'the': 95, 'If': 96}\n"
     ]
    }
   ],
   "source": [
    "import torch\n",
    "import torch.nn as nn\n",
    "import torch.optim as optim\n",
    "import torch.nn.functional as F\n",
    "import torch.autograd as autograd\n",
    "\n",
    "torch.manual_seed(1)\n",
    "\n",
    "context_size = 2\n",
    "embedding_size = 10\n",
    "test_sentence = \"\"\"When forty winters shall besiege thy brow,\n",
    "And dig deep trenches in thy beauty's field,\n",
    "Thy youth's proud livery so gazed on now,\n",
    "Will be a totter'd weed of small worth held:\n",
    "Then being asked, where all thy beauty lies,\n",
    "Where all the treasure of thy lusty days;\n",
    "To say, within thine own deep sunken eyes,\n",
    "Were an all-eating shame, and thriftless praise.\n",
    "How much more praise deserv'd thy beauty's use,\n",
    "If thou couldst answer 'This fair child of mine\n",
    "Shall sum my count, and make my old excuse,'\n",
    "Proving his beauty by succession thine!\n",
    "This were to be new made when thou art old,\n",
    "And see thy blood warm when thou feel'st it cold.\"\"\".split()\n",
    "\n",
    "trigrams = [([test_sentence[i], test_sentence[i + 1]], test_sentence[i + 2])\n",
    "            for i in range(len(test_sentence) - 2)]\n",
    "\n",
    "vocab = set(test_sentence)\n",
    "word_to_ix = {word: i for i, word in enumerate(vocab)}\n",
    "print(trigrams[:3])\n",
    "print(word_to_ix)"
   ]
  },
  {
   "cell_type": "markdown",
   "metadata": {},
   "source": [
    "## Defining a model"
   ]
  },
  {
   "cell_type": "code",
   "execution_count": 15,
   "metadata": {},
   "outputs": [
    {
     "name": "stdout",
     "output_type": "stream",
     "text": [
      "NGramModel(\n",
      "  (embedd): Embedding(97, 10)\n",
      "  (linear1): Linear(in_features=20, out_features=128)\n",
      "  (linear2): Linear(in_features=128, out_features=97)\n",
      ")\n"
     ]
    }
   ],
   "source": [
    "class NGramModel(nn.Module):\n",
    "    def __init__(self, vocab_size, context_size, embedding_size):\n",
    "        super(NGramModel, self).__init__()\n",
    "        self.embedd = nn.Embedding(vocab_size, embedding_size) #define random embeddings\n",
    "        self.linear1 = nn.Linear(context_size*embedding_size, 128)\n",
    "        self.linear2 = nn.Linear(128, vocab_size)\n",
    "        \n",
    "    def forward(self, inputs):\n",
    "        embeds = self.embedd(inputs).view((1,-1))\n",
    "        out = F.relu(self.linear1(embeds))\n",
    "        out = self.linear2(out)\n",
    "        return F.log_softmax(out, dim=1)\n",
    "    \n",
    "model = NGramModel(len(vocab), context_size, embedding_size)\n",
    "print(model)"
   ]
  },
  {
   "cell_type": "markdown",
   "metadata": {},
   "source": [
    "## Training the model"
   ]
  },
  {
   "cell_type": "code",
   "execution_count": 30,
   "metadata": {},
   "outputs": [
    {
     "name": "stdout",
     "output_type": "stream",
     "text": [
      "[323.0873278081417, 643.6426765918732, 961.6597440838814, 1277.132811397314, 1590.0542487502098, 1900.417294204235, 2208.2167975008488, 2513.4463525414467, 2816.101941421628, 3116.17862893641]\n"
     ]
    }
   ],
   "source": [
    "loss_fn = nn.CrossEntropyLoss()\n",
    "optimizer = optim.SGD(model.parameters(), lr = 0.001)\n",
    "total_loss= 0\n",
    "losses = []\n",
    "\n",
    "for epochs in range(10):\n",
    "    for context, target in trigrams:\n",
    "\n",
    "        context_idxs = [word_to_ix[w] for w in context] # get word index\n",
    "        context_var = autograd.Variable(torch.LongTensor(context_idxs))\n",
    "\n",
    "        model.zero_grad()\n",
    "\n",
    "        log_probs = model(context_var)\n",
    "        loss = loss_fn(log_probs, autograd.Variable(\n",
    "            torch.LongTensor([word_to_ix[target]])))\n",
    "        loss.backward()\n",
    "        optimizer.step()\n",
    "\n",
    "        total_loss += loss.data[0]\n",
    "    losses.append(total_loss)\n",
    "print(losses)\n"
   ]
  }
 ],
 "metadata": {
  "kernelspec": {
   "display_name": "deeplearning",
   "language": "python",
   "name": "deeplearning"
  },
  "language_info": {
   "codemirror_mode": {
    "name": "ipython",
    "version": 2
   },
   "file_extension": ".py",
   "mimetype": "text/x-python",
   "name": "python",
   "nbconvert_exporter": "python",
   "pygments_lexer": "ipython2",
   "version": "2.7.12"
  }
 },
 "nbformat": 4,
 "nbformat_minor": 2
}
